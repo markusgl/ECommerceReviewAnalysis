{
 "cells": [
  {
   "cell_type": "code",
   "execution_count": null,
   "metadata": {
    "collapsed": true
   },
   "outputs": [],
   "source": [
    "import pandas as pd\n",
    "import re\n",
    "from gensim.models import Word2Vec\n",
    "import matplotlib.pyplot as plt\n",
    "from nltk.tokenize import WhitespaceTokenizer\n",
    "from sklearn.decomposition import PCA\n",
    "import numpy as np\n",
    "\n",
    "keep_words_and_punct = r\"[^a-zA-Z?!.]|[.]{2,}\"\n",
    "keep_words = r\"[^a-zA-Z]|[.]{2,}\"\n",
    "mult_whitespaces = \"\\s{3,}\"        \n"
   ]
  },
  {
   "cell_type": "code",
   "execution_count": null,
   "metadata": {},
   "outputs": [],
   "source": [
    "df = pd.read_csv('data/review_data.csv')\n",
    "\n",
    "# clean each review (= each row in dataset)\n",
    "clean_reviews = []\n",
    "for i, row in df.iterrows():\n",
    "    clean_reviews.append(re.sub(mult_whitespaces, ' ', re.sub(keep_words_and_punct, ' ', str(row['Review Text']).lower())))\n",
    "\n",
    "# tokenize each sentence seperatet by punctuation\n",
    "tokenizer = WhitespaceTokenizer()\n",
    "for review in clean_reviews:\n",
    "    # split review into sentences separated by punctuation\n",
    "    sentences = re.split(\"[.?!]\", str(review))\n",
    "    for sentence in sentences:\n",
    "        # tokenize each sentence\n",
    "        train_sentences.append(tokenizer.tokenize(sentence))"
   ]
  },
  {
   "cell_type": "code",
   "execution_count": null,
   "metadata": {},
   "outputs": [],
   "source": [
    "# start word embeddings training with gensims word2vec\n",
    "print(\"start training...\")\n",
    "model = Word2Vec(train_sentences, size=100, window=5, min_count=5, workers=4)\n",
    "model.save('data/w2vmodel_positive.bin')"
   ]
  },
  {
   "cell_type": "code",
   "execution_count": null,
   "metadata": {},
   "outputs": [],
   "source": [
    "pca = PCA(n_components=2)\n",
    "result = pca.fit_transform(X)\n",
    "\n",
    "plt.scatter(result[:, 0], result[:, 1])\n",
    "words = list(model.wv.vocab)\n",
    "for i, word in enumerate(words):\n",
    "    plt.annotate(word, xy=(result[i, 0], result[i, 1]))\n",
    "\n",
    "plt.show()"
   ]
  }
 ],
 "metadata": {
  "kernelspec": {
   "display_name": "Python 3",
   "language": "python",
   "name": "python3"
  },
  "language_info": {
   "codemirror_mode": {
    "name": "ipython",
    "version": 3
   },
   "file_extension": ".py",
   "mimetype": "text/x-python",
   "name": "python",
   "nbconvert_exporter": "python",
   "pygments_lexer": "ipython3",
   "version": "3.6.4"
  }
 },
 "nbformat": 4,
 "nbformat_minor": 1
}
